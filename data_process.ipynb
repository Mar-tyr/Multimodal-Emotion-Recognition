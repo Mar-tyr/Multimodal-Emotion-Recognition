{
 "cells": [
  {
   "cell_type": "code",
   "execution_count": 1,
   "metadata": {},
   "outputs": [],
   "source": [
    "import os\n",
    "import os.path as osp\n",
    "from pathlib import Path\n",
    "from data_process import get_sample\n",
    "import cv2\n",
    "import scipy.misc\n",
    "import glob\n",
    "import matplotlib.pyplot as plt\n",
    "%matplotlib inline"
   ]
  },
  {
   "cell_type": "code",
   "execution_count": 2,
   "metadata": {},
   "outputs": [],
   "source": [
    "root_dir = Path('/mnt/hdfs-data-3/data/rui.ling/cool/can.xia/Private/data/recola')\n",
    "video_dir = root_dir / 'RECOLA-Video-recordings'\n",
    "anno_dir = root_dir / 'RECOLA-Annotation/emotional_behaviour'\n",
    "outdir = root_dir / 'recola_out'\n",
    "cropped_dir = outdir / 'crop'"
   ]
  },
  {
   "cell_type": "code",
   "execution_count": 3,
   "metadata": {},
   "outputs": [
    {
     "name": "stderr",
     "output_type": "stream",
     "text": [
      "100%|██████████| 7500/7500 [11:41<00:00, 10.86it/s]\n"
     ]
    }
   ],
   "source": [
    "get_sample(cropped_dir, 17, outdir)"
   ]
  },
  {
   "cell_type": "code",
   "execution_count": 4,
   "metadata": {},
   "outputs": [],
   "source": [
    "def fname_proc(fname):\n",
    "    fname = osp.splitext(fname)[0]\n",
    "    return int(fname.split('_')[-1])"
   ]
  },
  {
   "cell_type": "code",
   "execution_count": 10,
   "metadata": {},
   "outputs": [],
   "source": [
    "full_img_idxs = [fname_proc(fname) for fname in os.listdir(outdir/'Video/17/full_img')]\n",
    "full_img_idxs.sort()"
   ]
  },
  {
   "cell_type": "code",
   "execution_count": 14,
   "metadata": {},
   "outputs": [
    {
     "data": {
      "text/plain": [
       "842"
      ]
     },
     "execution_count": 14,
     "metadata": {},
     "output_type": "execute_result"
    }
   ],
   "source": [
    "max_seq_len = 0\n",
    "start = 0\n",
    "max_start = 0\n",
    "seq_len = 1\n",
    "for i in range(1, len(full_img_idxs)):\n",
    "    if full_img_idxs[i]-full_img_idxs[i-1] == 1:\n",
    "        seq_len += 1\n",
    "        if seq_len > max_seq_len:\n",
    "            max_seq_len = seq_len\n",
    "            max_start = start\n",
    "    else:\n",
    "        start = full_img_idxs[i]\n",
    "        seq_len = 1\n",
    "max_seq_len"
   ]
  },
  {
   "cell_type": "code",
   "execution_count": null,
   "metadata": {},
   "outputs": [],
   "source": []
  },
  {
   "cell_type": "code",
   "execution_count": null,
   "metadata": {},
   "outputs": [],
   "source": []
  }
 ],
 "metadata": {
  "kernelspec": {
   "display_name": "Python 3",
   "language": "python",
   "name": "python3"
  },
  "language_info": {
   "codemirror_mode": {
    "name": "ipython",
    "version": 3
   },
   "file_extension": ".py",
   "mimetype": "text/x-python",
   "name": "python",
   "nbconvert_exporter": "python",
   "pygments_lexer": "ipython3",
   "version": "3.6.2"
  }
 },
 "nbformat": 4,
 "nbformat_minor": 2
}
